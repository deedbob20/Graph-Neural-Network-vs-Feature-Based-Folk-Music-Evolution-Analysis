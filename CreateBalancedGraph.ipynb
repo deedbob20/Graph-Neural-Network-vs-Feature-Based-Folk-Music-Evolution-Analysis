{
 "cells": [
  {
   "cell_type": "markdown",
   "metadata": {},
   "source": [
    "## Visualising the graph of folk tunes"
   ]
  },
  {
   "cell_type": "markdown",
   "metadata": {},
   "source": [
    "This notebook iterates through all the tunes in the original dataset, to create a new dataset which is balanced over 25 year periods.\n",
    "\n",
    "Then, there is code which creates a visualisation of the graph-structured dataset using the NetworkX library."
   ]
  },
  {
   "cell_type": "code",
   "execution_count": 1,
   "metadata": {},
   "outputs": [],
   "source": [
    "import networkx as nx\n",
    "import pandas as pd\n",
    "import numpy as np\n",
    "import matplotlib.pyplot as plt\n",
    "import random\n",
    "import plotly.graph_objects as go\n",
    "from pyvis.network import Network"
   ]
  },
  {
   "cell_type": "markdown",
   "metadata": {},
   "source": [
    "### Load tsv file into a pandas dataframe:"
   ]
  },
  {
   "cell_type": "code",
   "execution_count": 2,
   "metadata": {},
   "outputs": [],
   "source": [
    "# Code_And_Data/Dataset/file_features_clean.pkl\n",
    "\n",
    "tunes_data=pd.read_csv('./Dataset/files_features_clean.tsv',sep='\\t')"
   ]
  },
  {
   "cell_type": "code",
   "execution_count": 3,
   "metadata": {},
   "outputs": [
    {
     "data": {
      "text/html": [
       "<div>\n",
       "<style scoped>\n",
       "    .dataframe tbody tr th:only-of-type {\n",
       "        vertical-align: middle;\n",
       "    }\n",
       "\n",
       "    .dataframe tbody tr th {\n",
       "        vertical-align: top;\n",
       "    }\n",
       "\n",
       "    .dataframe thead th {\n",
       "        text-align: right;\n",
       "    }\n",
       "</style>\n",
       "<table border=\"1\" class=\"dataframe\">\n",
       "  <thead>\n",
       "    <tr style=\"text-align: right;\">\n",
       "      <th></th>\n",
       "      <th>file_name</th>\n",
       "      <th>pitch_vector</th>\n",
       "      <th>rhythm_vector</th>\n",
       "    </tr>\n",
       "  </thead>\n",
       "  <tbody>\n",
       "    <tr>\n",
       "      <th>0</th>\n",
       "      <td>1795_Gretna Green. VWMLa.193.abc</td>\n",
       "      <td>[-2, -5, 0, 0, -1, 1, -3, 8, 0, 0, -1, 3, -3, ...</td>\n",
       "      <td>[0.25, 0.25, 1.0, 0.5, 0.75, 0.25, 0.5, 1.0, 0...</td>\n",
       "    </tr>\n",
       "    <tr>\n",
       "      <th>1</th>\n",
       "      <td>1827_Bath Waltz. JC.168.abc</td>\n",
       "      <td>[9, -4, -5, 9, -4, 4, 1, -3, -2, -1, 3, -3, -4...</td>\n",
       "      <td>[0.5, 0.5, 0.5, 0.5, 0.5, 0.5, 0.0, 1.0, 0.25,...</td>\n",
       "    </tr>\n",
       "    <tr>\n",
       "      <th>2</th>\n",
       "      <td>1860_Saxon Waltz. TLY.030.abc</td>\n",
       "      <td>[1, -1, -4, 9, -2, -2, -1, -9, 5, 4, -2, -7, 4...</td>\n",
       "      <td>[1.0, 0.5, 0.5, 0.5, 0.5, 0.5, 0.5, 0.5, 0.5, ...</td>\n",
       "    </tr>\n",
       "    <tr>\n",
       "      <th>3</th>\n",
       "      <td>1756_Better Day Better Deed. WCD3.abc</td>\n",
       "      <td>[2, -2, -2, -1, -2, 2, 1, -1, -2, -2, -5, 2, 2...</td>\n",
       "      <td>[1.0, 0.5, 0.5, 0.5, 0.5, 0.5, 0.5, 0.5, 0.5, ...</td>\n",
       "    </tr>\n",
       "    <tr>\n",
       "      <th>4</th>\n",
       "      <td>1833_Green Hills of Tyrol. LW.099.abc</td>\n",
       "      <td>[5, 2, 2, -4, 4, 1, 2, 2, -5, 5, -2, -2, -3, -...</td>\n",
       "      <td>[0.5, 0.5, 0.5, 1.5, 0.5, 0.5, 0.5, 1.5, 0.5, ...</td>\n",
       "    </tr>\n",
       "    <tr>\n",
       "      <th>...</th>\n",
       "      <td>...</td>\n",
       "      <td>...</td>\n",
       "      <td>...</td>\n",
       "    </tr>\n",
       "    <tr>\n",
       "      <th>13611</th>\n",
       "      <td>1837_Untitled.#15. JBs.117.abc</td>\n",
       "      <td>[0, 5, -5, -3, -4, 0, 2, 2, 1, -1, -2, 0, 0, 0...</td>\n",
       "      <td>[0.75, 0.25, 2.0, 1.5, 0.5, 1.0, 0.5, 0.5, 0.5...</td>\n",
       "    </tr>\n",
       "    <tr>\n",
       "      <th>13612</th>\n",
       "      <td>1834_Irish Washerwoman. BF12.12.abc</td>\n",
       "      <td>[-1, -4, 0, -5, 5, 0, 4, -4, 4, 3, -2, -1, 1, ...</td>\n",
       "      <td>[1.0, 0.5, 0.5, 0.5, 0.5, 0.5, 0.5, 0.5, 0.5, ...</td>\n",
       "    </tr>\n",
       "    <tr>\n",
       "      <th>13613</th>\n",
       "      <td>1758_Charles's Jigg THO1.045.abc</td>\n",
       "      <td>[-7, 0, 0, 9, -2, -7, 0, 0, 9, -2, -2, -1, 1, ...</td>\n",
       "      <td>[0.5, 0.5, 0.5, 1.0, 0.5, 0.5, 0.5, 0.5, 1.0, ...</td>\n",
       "    </tr>\n",
       "    <tr>\n",
       "      <th>13614</th>\n",
       "      <td>1699_SPRING. TBr.05, THE.abc</td>\n",
       "      <td>[7, -2, 2, -2, -2, 2, -3, 5, -8, -4, 5, 2, 0, ...</td>\n",
       "      <td>[1.0, 2.0, 1.0, 0.5, 0.5, 1.0, 1.0, 1.0, 1.0, ...</td>\n",
       "    </tr>\n",
       "    <tr>\n",
       "      <th>13615</th>\n",
       "      <td>1835_Nelson Hornpipe. JBu.40.abc</td>\n",
       "      <td>[-2, -1, -4, 4, 3, 5, 4, 3, -3, 1, -3, 2, -4, ...</td>\n",
       "      <td>[0.5, 0.5, 0.5, 0.5, 0.5, 0.5, 0.5, 0.5, 0.5, ...</td>\n",
       "    </tr>\n",
       "  </tbody>\n",
       "</table>\n",
       "<p>13616 rows × 3 columns</p>\n",
       "</div>"
      ],
      "text/plain": [
       "                                   file_name  \\\n",
       "0           1795_Gretna Green. VWMLa.193.abc   \n",
       "1                1827_Bath Waltz. JC.168.abc   \n",
       "2              1860_Saxon Waltz. TLY.030.abc   \n",
       "3      1756_Better Day Better Deed. WCD3.abc   \n",
       "4      1833_Green Hills of Tyrol. LW.099.abc   \n",
       "...                                      ...   \n",
       "13611         1837_Untitled.#15. JBs.117.abc   \n",
       "13612    1834_Irish Washerwoman. BF12.12.abc   \n",
       "13613       1758_Charles's Jigg THO1.045.abc   \n",
       "13614           1699_SPRING. TBr.05, THE.abc   \n",
       "13615       1835_Nelson Hornpipe. JBu.40.abc   \n",
       "\n",
       "                                            pitch_vector  \\\n",
       "0      [-2, -5, 0, 0, -1, 1, -3, 8, 0, 0, -1, 3, -3, ...   \n",
       "1      [9, -4, -5, 9, -4, 4, 1, -3, -2, -1, 3, -3, -4...   \n",
       "2      [1, -1, -4, 9, -2, -2, -1, -9, 5, 4, -2, -7, 4...   \n",
       "3      [2, -2, -2, -1, -2, 2, 1, -1, -2, -2, -5, 2, 2...   \n",
       "4      [5, 2, 2, -4, 4, 1, 2, 2, -5, 5, -2, -2, -3, -...   \n",
       "...                                                  ...   \n",
       "13611  [0, 5, -5, -3, -4, 0, 2, 2, 1, -1, -2, 0, 0, 0...   \n",
       "13612  [-1, -4, 0, -5, 5, 0, 4, -4, 4, 3, -2, -1, 1, ...   \n",
       "13613  [-7, 0, 0, 9, -2, -7, 0, 0, 9, -2, -2, -1, 1, ...   \n",
       "13614  [7, -2, 2, -2, -2, 2, -3, 5, -8, -4, 5, 2, 0, ...   \n",
       "13615  [-2, -1, -4, 4, 3, 5, 4, 3, -3, 1, -3, 2, -4, ...   \n",
       "\n",
       "                                           rhythm_vector  \n",
       "0      [0.25, 0.25, 1.0, 0.5, 0.75, 0.25, 0.5, 1.0, 0...  \n",
       "1      [0.5, 0.5, 0.5, 0.5, 0.5, 0.5, 0.0, 1.0, 0.25,...  \n",
       "2      [1.0, 0.5, 0.5, 0.5, 0.5, 0.5, 0.5, 0.5, 0.5, ...  \n",
       "3      [1.0, 0.5, 0.5, 0.5, 0.5, 0.5, 0.5, 0.5, 0.5, ...  \n",
       "4      [0.5, 0.5, 0.5, 1.5, 0.5, 0.5, 0.5, 1.5, 0.5, ...  \n",
       "...                                                  ...  \n",
       "13611  [0.75, 0.25, 2.0, 1.5, 0.5, 1.0, 0.5, 0.5, 0.5...  \n",
       "13612  [1.0, 0.5, 0.5, 0.5, 0.5, 0.5, 0.5, 0.5, 0.5, ...  \n",
       "13613  [0.5, 0.5, 0.5, 1.0, 0.5, 0.5, 0.5, 0.5, 1.0, ...  \n",
       "13614  [1.0, 2.0, 1.0, 0.5, 0.5, 1.0, 1.0, 1.0, 1.0, ...  \n",
       "13615  [0.5, 0.5, 0.5, 0.5, 0.5, 0.5, 0.5, 0.5, 0.5, ...  \n",
       "\n",
       "[13616 rows x 3 columns]"
      ]
     },
     "execution_count": 3,
     "metadata": {},
     "output_type": "execute_result"
    }
   ],
   "source": [
    "tunes_data"
   ]
  },
  {
   "cell_type": "markdown",
   "metadata": {},
   "source": [
    "### Balance the graph so equal number of nodes in each year bin:"
   ]
  },
  {
   "cell_type": "code",
   "execution_count": 12,
   "metadata": {},
   "outputs": [],
   "source": [
    "#### 25 year balance ####\n",
    "\n",
    "# Create empty df to store tunes and years:\n",
    "balanced_yearwise_data = pd.DataFrame(columns=['tune', 'year', 'true_year'])\n",
    "\n",
    "# Iterate through each tune in the original loaded data and add to new df, with more even year spread:\n",
    "count_1650 = 0\n",
    "count_1675 = 0\n",
    "count_1700 = 0\n",
    "count_1725 = 0\n",
    "count_1750 = 0\n",
    "count_1775 = 0\n",
    "count_1800 = 0\n",
    "count_1825 = 0\n",
    "count_1850 = 0\n",
    "count_1875 = 0\n",
    "count_1900 = 0\n",
    "tune_names_1650 = []\n",
    "tune_names_1675 = []\n",
    "\n",
    "for tune in tunes_data.index:\n",
    "    tune_name  = tunes_data['file_name'][tune]   \n",
    "    tune_year = tune_name[:4]\n",
    "    if (1650 <= int(tune_year) < 1675) and (count_1650<100):\n",
    "        if tune_name in tune_names_1650:\n",
    "            print('duplicate:', tune_name)\n",
    "            pass\n",
    "        else:\n",
    "            balanced_yearwise_data.loc[len(balanced_yearwise_data)] = ({'tune': tune_name, 'year': 1650, 'true_year': int(tune_year)})\n",
    "            count_1650+=1\n",
    "            tune_names_1650.append(tune_name)\n",
    "    elif (1675 <= int(tune_year) < 1700) and (count_1675<100):\n",
    "        if tune_name in tune_names_1675:\n",
    "            pass\n",
    "        else:\n",
    "            balanced_yearwise_data.loc[len(balanced_yearwise_data)] = ({'tune': tune_name, 'year': 1650, 'true_year': int(tune_year)})\n",
    "            count_1675+=1\n",
    "            tune_names_1675.append(tune_name)\n",
    "    elif (1700 <= int(tune_year) < 1725) and (count_1700<100):\n",
    "        balanced_yearwise_data.loc[len(balanced_yearwise_data)] = ({'tune': tune_name, 'year': 1700, 'true_year': int(tune_year)})\n",
    "        count_1700+=1\n",
    "    elif (1725 <= int(tune_year) < 1750) and (count_1725<100):\n",
    "        balanced_yearwise_data.loc[len(balanced_yearwise_data)] = ({'tune': tune_name, 'year': 1700, 'true_year': int(tune_year)})\n",
    "        count_1725+=1\n",
    "    elif (1750 <= int(tune_year) < 1775) and (count_1750<100):\n",
    "        balanced_yearwise_data.loc[len(balanced_yearwise_data)] = ({'tune': tune_name, 'year': 1750, 'true_year': int(tune_year)})\n",
    "        count_1750+=1\n",
    "    elif (1775 <= int(tune_year) < 1800) and (count_1775<100):\n",
    "        balanced_yearwise_data.loc[len(balanced_yearwise_data)] = ({'tune': tune_name, 'year': 1750, 'true_year': int(tune_year)})\n",
    "        count_1775+=1\n",
    "    elif (1800 <= int(tune_year) < 1825) and (count_1800<100):\n",
    "        balanced_yearwise_data.loc[len(balanced_yearwise_data)] = ({'tune': tune_name, 'year': 1800, 'true_year': int(tune_year)})\n",
    "        count_1800+=1\n",
    "    elif (1825 <= int(tune_year) < 1850) and (count_1825<100):\n",
    "        balanced_yearwise_data.loc[len(balanced_yearwise_data)] = ({'tune': tune_name, 'year': 1800, 'true_year': int(tune_year)})\n",
    "        count_1825+=1\n",
    "    elif (1850 <= int(tune_year) < 1875) and (count_1850<100):\n",
    "        balanced_yearwise_data.loc[len(balanced_yearwise_data)] = ({'tune': tune_name, 'year': 1850, 'true_year': int(tune_year)})\n",
    "        count_1850+=1\n",
    "    elif (1875 <= int(tune_year) < 1900) and (count_1875<100):\n",
    "        balanced_yearwise_data.loc[len(balanced_yearwise_data)] = ({'tune': tune_name, 'year': 1850, 'true_year': int(tune_year)})\n",
    "        count_1875+=1\n",
    "    # if (1900 <= int(tune_year) < 1925) and (count_1900<=100):\n",
    "    #     count_1900+=1\n",
    "    #     balanced_yearwise_data.loc[len(balanced_yearwise_data)] = ({'tune': tune_name, 'year': 1900, 'true_year': int(tune_year)})\n",
    "\n",
    "# Save to .pkl:\n",
    "balanced_yearwise_data.to_pickle('5_class_tune_year_labels.pkl')\n"
   ]
  },
  {
   "cell_type": "markdown",
   "metadata": {},
   "source": [
    "### Create edge list:"
   ]
  },
  {
   "cell_type": "code",
   "execution_count": 14,
   "metadata": {},
   "outputs": [
    {
     "name": "stdout",
     "output_type": "stream",
     "text": [
      "processed 50 tunes\n",
      "Current max neighbours:  100\n",
      "Current min neighbours:  75\n",
      "processed 100 tunes\n",
      "Current max neighbours:  100\n",
      "Current min neighbours:  75\n",
      "processed 150 tunes\n",
      "Current max neighbours:  100\n",
      "Current min neighbours:  75\n",
      "processed 200 tunes\n",
      "Current max neighbours:  100\n",
      "Current min neighbours:  75\n",
      "processed 250 tunes\n",
      "Current max neighbours:  100\n",
      "Current min neighbours:  75\n",
      "processed 300 tunes\n",
      "Current max neighbours:  100\n",
      "Current min neighbours:  75\n",
      "processed 350 tunes\n",
      "Current max neighbours:  100\n",
      "Current min neighbours:  75\n",
      "processed 400 tunes\n",
      "Current max neighbours:  100\n",
      "Current min neighbours:  75\n",
      "processed 450 tunes\n",
      "Current max neighbours:  100\n",
      "Current min neighbours:  75\n",
      "processed 500 tunes\n",
      "Current max neighbours:  100\n",
      "Current min neighbours:  75\n",
      "processed 550 tunes\n",
      "Current max neighbours:  100\n",
      "Current min neighbours:  75\n",
      "processed 600 tunes\n",
      "Current max neighbours:  100\n",
      "Current min neighbours:  75\n",
      "processed 650 tunes\n",
      "Current max neighbours:  100\n",
      "Current min neighbours:  75\n",
      "processed 700 tunes\n",
      "Current max neighbours:  100\n",
      "Current min neighbours:  75\n",
      "processed 750 tunes\n",
      "Current max neighbours:  100\n",
      "Current min neighbours:  75\n",
      "processed 800 tunes\n",
      "Current max neighbours:  100\n",
      "Current min neighbours:  75\n",
      "processed 850 tunes\n",
      "Current max neighbours:  100\n",
      "Current min neighbours:  75\n",
      "processed 900 tunes\n",
      "Current max neighbours:  100\n",
      "Current min neighbours:  75\n",
      "processed 950 tunes\n",
      "Current max neighbours:  100\n",
      "Current min neighbours:  75\n",
      "processed 1000 tunes\n",
      "Current max neighbours:  100\n",
      "Current min neighbours:  75\n"
     ]
    }
   ],
   "source": [
    "edge_list = []\n",
    "count = 0\n",
    "\n",
    "# Iterate through each tune:\n",
    "max_neighbours = 0\n",
    "min_neighbours = 75\n",
    "for tune_i in balanced_yearwise_data.index:\n",
    "    num_neighbours = 0\n",
    "    count+=1\n",
    "    try:\n",
    "        tune_i_year = int(balanced_yearwise_data['true_year'][tune_i])\n",
    "\n",
    "\n",
    "        # Iterate through every other tune:\n",
    "\n",
    "        # Shuffle indices for random iteration:\n",
    "        shuffled_indices = np.random.permutation(balanced_yearwise_data.index)\n",
    "        for tune_j in shuffled_indices:\n",
    "            if balanced_yearwise_data['tune'][tune_i] != balanced_yearwise_data['tune'][tune_j]:\n",
    "                tune_j_year = int(balanced_yearwise_data['true_year'][tune_j])\n",
    "\n",
    "                # If tunes are < 50 years apart, create an edge between them (cost is the difference in years):\n",
    "                year_diff = np.abs(tune_i_year - tune_j_year)\n",
    "                if year_diff < 50:\n",
    "                    edge = (balanced_yearwise_data['tune'][tune_i], balanced_yearwise_data['tune'][tune_j], year_diff)\n",
    "                    edge_list.append(edge)\n",
    "                    num_neighbours+=1\n",
    "\n",
    "                    if num_neighbours >= 100:\n",
    "                        break\n",
    "    except:\n",
    "        pass\n",
    "\n",
    "    if num_neighbours > max_neighbours:\n",
    "        max_neighbours = num_neighbours\n",
    "    if num_neighbours < min_neighbours:\n",
    "        min_neighbours = num_neighbours\n",
    "\n",
    "    if count % 50 == 0:\n",
    "        print(f\"processed {count} tunes\")\n",
    "        print('Current max neighbours: ', max_neighbours)\n",
    "        print('Current min neighbours: ', min_neighbours)\n",
    "\n",
    "# Convert edge-list into a pd df and save as pickle file:\n",
    "edge_df = pd.DataFrame(edge_list, columns=['node_1', 'node_2', 'cost'])\n",
    "\n",
    "edge_df.to_pickle('5_class_edge_df_50yrN.pkl')"
   ]
  },
  {
   "cell_type": "code",
   "execution_count": 24,
   "metadata": {},
   "outputs": [
    {
     "data": {
      "text/plain": [
       "1000"
      ]
     },
     "execution_count": 24,
     "metadata": {},
     "output_type": "execute_result"
    }
   ],
   "source": [
    "count"
   ]
  },
  {
   "cell_type": "markdown",
   "metadata": {},
   "source": [
    "### Create a networkX graph:"
   ]
  },
  {
   "cell_type": "markdown",
   "metadata": {},
   "source": [
    "First we will create a new dataframe with tune objects to store tune features and their years for quick location:"
   ]
  },
  {
   "cell_type": "code",
   "execution_count": 6,
   "metadata": {},
   "outputs": [],
   "source": [
    "# Create a tune class:\n",
    "\n",
    "class Tune:\n",
    "    def __init__(self, name, year, pitch_vector, rhythm_vector):\n",
    "        self.name = name\n",
    "        self.year = year\n",
    "        self.pitch_vector = pitch_vector\n",
    "        self.rhythm_vector = rhythm_vector"
   ]
  },
  {
   "cell_type": "code",
   "execution_count": 7,
   "metadata": {},
   "outputs": [],
   "source": [
    "# Create empty df to store tune objects and years:\n",
    "yearwise_data = pd.DataFrame(columns=['tune', 'year'])\n",
    "\n",
    "# Iterate through each tune in the original loaded data and get info:\n",
    "for tune in tunes_data.index:\n",
    "    tune_name  = tunes_data['file_name'][tune]\n",
    "    tune_year = tune_name[:4]\n",
    "    tune_pitch_vector = tunes_data['pitch_vector'][tune]\n",
    "    tune_rhythm_vector = tunes_data['rhythm_vector'][tune]\n",
    "\n",
    "    # Create a tune object to store all info about the tune:\n",
    "    tune_obj = Tune(tune_name, tune_year, tune_pitch_vector, tune_rhythm_vector)\n",
    "\n",
    "    # Add to year-wise df:\n",
    "    yearwise_data.loc[len(yearwise_data)] = ({'tune': tune_obj, 'year': tune_year})\n"
   ]
  },
  {
   "cell_type": "code",
   "execution_count": 8,
   "metadata": {},
   "outputs": [
    {
     "data": {
      "text/html": [
       "<div>\n",
       "<style scoped>\n",
       "    .dataframe tbody tr th:only-of-type {\n",
       "        vertical-align: middle;\n",
       "    }\n",
       "\n",
       "    .dataframe tbody tr th {\n",
       "        vertical-align: top;\n",
       "    }\n",
       "\n",
       "    .dataframe thead th {\n",
       "        text-align: right;\n",
       "    }\n",
       "</style>\n",
       "<table border=\"1\" class=\"dataframe\">\n",
       "  <thead>\n",
       "    <tr style=\"text-align: right;\">\n",
       "      <th></th>\n",
       "      <th>tune</th>\n",
       "      <th>year</th>\n",
       "    </tr>\n",
       "  </thead>\n",
       "  <tbody>\n",
       "    <tr>\n",
       "      <th>0</th>\n",
       "      <td>&lt;__main__.Tune object at 0x7f8b39fa6ca0&gt;</td>\n",
       "      <td>1795</td>\n",
       "    </tr>\n",
       "    <tr>\n",
       "      <th>1</th>\n",
       "      <td>&lt;__main__.Tune object at 0x7f8b39f93490&gt;</td>\n",
       "      <td>1827</td>\n",
       "    </tr>\n",
       "    <tr>\n",
       "      <th>2</th>\n",
       "      <td>&lt;__main__.Tune object at 0x7f8b39f934f0&gt;</td>\n",
       "      <td>1860</td>\n",
       "    </tr>\n",
       "    <tr>\n",
       "      <th>3</th>\n",
       "      <td>&lt;__main__.Tune object at 0x7f8b39f93340&gt;</td>\n",
       "      <td>1756</td>\n",
       "    </tr>\n",
       "    <tr>\n",
       "      <th>4</th>\n",
       "      <td>&lt;__main__.Tune object at 0x7f8b39fa67f0&gt;</td>\n",
       "      <td>1833</td>\n",
       "    </tr>\n",
       "    <tr>\n",
       "      <th>...</th>\n",
       "      <td>...</td>\n",
       "      <td>...</td>\n",
       "    </tr>\n",
       "    <tr>\n",
       "      <th>13670</th>\n",
       "      <td>&lt;__main__.Tune object at 0x7f8b3f90a3a0&gt;</td>\n",
       "      <td>1837</td>\n",
       "    </tr>\n",
       "    <tr>\n",
       "      <th>13671</th>\n",
       "      <td>&lt;__main__.Tune object at 0x7f8b3f90ae20&gt;</td>\n",
       "      <td>1834</td>\n",
       "    </tr>\n",
       "    <tr>\n",
       "      <th>13672</th>\n",
       "      <td>&lt;__main__.Tune object at 0x7f8b3f90afd0&gt;</td>\n",
       "      <td>1758</td>\n",
       "    </tr>\n",
       "    <tr>\n",
       "      <th>13673</th>\n",
       "      <td>&lt;__main__.Tune object at 0x7f8b3f90a1f0&gt;</td>\n",
       "      <td>1699</td>\n",
       "    </tr>\n",
       "    <tr>\n",
       "      <th>13674</th>\n",
       "      <td>&lt;__main__.Tune object at 0x7f8b3f90ac70&gt;</td>\n",
       "      <td>1835</td>\n",
       "    </tr>\n",
       "  </tbody>\n",
       "</table>\n",
       "<p>13675 rows × 2 columns</p>\n",
       "</div>"
      ],
      "text/plain": [
       "                                           tune  year\n",
       "0      <__main__.Tune object at 0x7f8b39fa6ca0>  1795\n",
       "1      <__main__.Tune object at 0x7f8b39f93490>  1827\n",
       "2      <__main__.Tune object at 0x7f8b39f934f0>  1860\n",
       "3      <__main__.Tune object at 0x7f8b39f93340>  1756\n",
       "4      <__main__.Tune object at 0x7f8b39fa67f0>  1833\n",
       "...                                         ...   ...\n",
       "13670  <__main__.Tune object at 0x7f8b3f90a3a0>  1837\n",
       "13671  <__main__.Tune object at 0x7f8b3f90ae20>  1834\n",
       "13672  <__main__.Tune object at 0x7f8b3f90afd0>  1758\n",
       "13673  <__main__.Tune object at 0x7f8b3f90a1f0>  1699\n",
       "13674  <__main__.Tune object at 0x7f8b3f90ac70>  1835\n",
       "\n",
       "[13675 rows x 2 columns]"
      ]
     },
     "execution_count": 8,
     "metadata": {},
     "output_type": "execute_result"
    }
   ],
   "source": [
    "yearwise_data"
   ]
  },
  {
   "cell_type": "markdown",
   "metadata": {},
   "source": [
    "Now we will create an edge-list:"
   ]
  },
  {
   "cell_type": "code",
   "execution_count": 9,
   "metadata": {},
   "outputs": [],
   "source": [
    "edge_list = []\n",
    "\n",
    "# Iterate through each tune:\n",
    "for tune_i in yearwise_data.index:\n",
    "    try:\n",
    "        tune_i_year = int(yearwise_data['year'][tune_i])\n",
    "        # print('tune i: ', tune_i_year)\n",
    "\n",
    "        # Iterate through every other tune:\n",
    "        for tune_j in yearwise_data.index:\n",
    "            if yearwise_data['tune'][tune_i] != yearwise_data['tune'][tune_j]:\n",
    "                tune_j_year = int(yearwise_data['year'][tune_j])\n",
    "\n",
    "                # If tunes are < 50 years apart, create an edge between them (cost is the difference in years):\n",
    "                year_diff = np.abs(tune_i_year - tune_j_year)\n",
    "                # print('year diff', year_diff)\n",
    "                if year_diff < 50:\n",
    "                    edge = (yearwise_data['tune'][tune_i], yearwise_data['tune'][tune_j], year_diff)\n",
    "                    edge_list.append(edge)\n",
    "    except:\n",
    "        pass"
   ]
  },
  {
   "cell_type": "code",
   "execution_count": null,
   "metadata": {},
   "outputs": [
    {
     "data": {
      "text/plain": [
       "96053536"
      ]
     },
     "execution_count": 8,
     "metadata": {},
     "output_type": "execute_result"
    }
   ],
   "source": [
    "len(edge_list)"
   ]
  },
  {
   "cell_type": "markdown",
   "metadata": {},
   "source": [
    "Lets change the edge_list so each node only has a maximum of 5 edges:"
   ]
  },
  {
   "cell_type": "code",
   "execution_count": null,
   "metadata": {},
   "outputs": [
    {
     "data": {
      "text/plain": [
       "16390"
      ]
     },
     "execution_count": 92,
     "metadata": {},
     "output_type": "execute_result"
    }
   ],
   "source": [
    "edge_list = []\n",
    "\n",
    "# Iterate through each tune:\n",
    "for tune_i in yearwise_data.index:\n",
    "    edge_count = 0\n",
    "    tune_edges = []\n",
    "    try:\n",
    "        tune_i_year = int(yearwise_data['year'][tune_i])\n",
    "\n",
    "        # Iterate through every other tune:\n",
    "        for tune_j in yearwise_data.index:\n",
    "            if yearwise_data['tune'][tune_i] != yearwise_data['tune'][tune_j]:\n",
    "                tune_j_year = int(yearwise_data['year'][tune_j])\n",
    "\n",
    "                # If tunes are < 100 years apart, create an edge between them (cost is the difference in years):\n",
    "                year_diff = np.abs(tune_i_year - tune_j_year)\n",
    "                if year_diff < 100:\n",
    "                    edge = (yearwise_data['tune'][tune_i], yearwise_data['tune'][tune_j], year_diff)\n",
    "                    tune_edges.append(edge)\n",
    "                    edge_count+=1  \n",
    "    except:\n",
    "        pass\n",
    "    \n",
    "    # Choose 5 neighbours with a probability distribution:\n",
    "    p_dist = []\n",
    "    for candidate in tune_edges:\n",
    "        if year_diff < 50:\n",
    "            probability = 0.5\n",
    "        else:\n",
    "            probability = 0.25\n",
    "        p_dist.append(probability)\n",
    "    p_norm = [float(i)/sum(p_dist) for i in p_dist]    \n",
    "    try:\n",
    "\n",
    "        chosen_indices = np.random.choice(list(range(0,len(tune_edges))), size=5, p=p_norm)\n",
    "        tune_edges = [tune_edges[i] for i in chosen_indices]\n",
    "        \n",
    "        # print(len(tune_edges))\n",
    "    except:\n",
    "        pass\n",
    "    edge_list.extend(tune_edges)\n",
    "\n",
    "len(edge_list)"
   ]
  },
  {
   "cell_type": "markdown",
   "metadata": {},
   "source": [
    "Now we will convert into a df and load into a networkX graph:"
   ]
  },
  {
   "cell_type": "code",
   "execution_count": null,
   "metadata": {},
   "outputs": [],
   "source": [
    "edge_df = pd.DataFrame(edge_list, columns=['node_1', 'node_2', 'cost'])"
   ]
  },
  {
   "cell_type": "code",
   "execution_count": null,
   "metadata": {},
   "outputs": [],
   "source": [
    "G = nx.from_pandas_edgelist(edge_df, 'node_1', 'node_2', 'cost')"
   ]
  },
  {
   "cell_type": "code",
   "execution_count": null,
   "metadata": {},
   "outputs": [
    {
     "name": "stdout",
     "output_type": "stream",
     "text": [
      "Number of nodes in the graph: 13675\n"
     ]
    },
    {
     "data": {
      "image/png": "[encoded data removed]",
      "text/plain": [
       "<Figure size 640x480 with 1 Axes>"
      ]
     },
     "metadata": {},
     "output_type": "display_data"
    },
    {
     "data": {
      "text/plain": [
       "<Figure size 2000x2000 with 0 Axes>"
      ]
     },
     "metadata": {},
     "output_type": "display_data"
    }
   ],
   "source": [
    "# Number of nodes:\n",
    "num_nodes = nx.number_of_nodes(G)\n",
    "\n",
    "print(\"Number of nodes in the graph:\", num_nodes)\n",
    "\n",
    "# Get a subset of 100 nodes\n",
    "subgraph_nodes = list(G.nodes())[:5000]\n",
    "\n",
    "# Extract the subgraph containing only these nodes\n",
    "subgraph = G.subgraph(subgraph_nodes)\n",
    "\n",
    "# Draw the subgraph\n",
    "nx.draw_spring(subgraph, with_labels=False, node_color='skyblue', node_size=10, width=0.5)\n",
    "plt.figure(figsize=(20,20))\n",
    "plt.show()\n"
   ]
  }
 ],
 "metadata": {
  "kernelspec": {
   "display_name": "base",
   "language": "python",
   "name": "python3"
  },
  "language_info": {
   "codemirror_mode": {
    "name": "ipython",
    "version": 3
   },
   "file_extension": ".py",
   "mimetype": "text/x-python",
   "name": "python",
   "nbconvert_exporter": "python",
   "pygments_lexer": "ipython3",
   "version": "3.9.19"
  }
 },
 "nbformat": 4,
 "nbformat_minor": 2
}
