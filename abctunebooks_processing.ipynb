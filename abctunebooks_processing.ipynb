{
 "cells": [
  {
   "cell_type": "markdown",
   "metadata": {},
   "source": [
    "## Data Pre-processing"
   ]
  },
  {
   "cell_type": "markdown",
   "metadata": {},
   "source": [
    "This notebook iterates through each .abc tune book, extracting each tune and save as a new .abc file"
   ]
  },
  {
   "cell_type": "markdown",
   "metadata": {},
   "source": [
    "### Folder-wise:"
   ]
  },
  {
   "cell_type": "code",
   "execution_count": 1,
   "metadata": {},
   "outputs": [],
   "source": [
    "import os\n",
    "import re"
   ]
  },
  {
   "cell_type": "code",
   "execution_count": null,
   "metadata": {},
   "outputs": [],
   "source": [
    "folder = './Dataset/tune_books/CPartington' # Change to whichever folder you want to iterate through\n",
    "\n",
    "# Iterate through all tune books:\n",
    "for root, _, files in os.walk(folder):\n",
    "    for name in files:\n",
    "      file_path = os.path.join(root, name)\n",
    "      if file_path.endswith('.abc'):\n",
    "        destination_folder = './Dataset/tune_abc_files' # where to save to\n",
    "        extension = '.abc'\n",
    "        date = name[:4]\n",
    "        file = open(file_path) # parse the tune book into python\n",
    "        lines = file.readlines()\n",
    "\n",
    "\n",
    "        # Iterate through all lines in the tune book:\n",
    "        title = None\n",
    "        abctune = []\n",
    "        date_custom = None\n",
    "        for i, line in enumerate(lines):\n",
    "            line = line.strip()\n",
    "\n",
    "            # Get the tune source:\n",
    "            if line.startswith('link:'):\n",
    "                source = 'S:' + line[5:]\n",
    "            \n",
    "            # Find each unique tune:\n",
    "            unique_tune = (line.startswith('X:'))\\\n",
    "            or (line.startswith('W:') and i + 1 < len(lines) and lines[i+1].startswith('T:'))\\\n",
    "            or (line == '%%endtext')\n",
    "\n",
    "            if unique_tune:\n",
    "                \n",
    "                # Save previous tune to .abc:\n",
    "                if abctune:\n",
    "                    if title:\n",
    "                        if date_custom:\n",
    "                            file_name = os.path.join(destination_folder, f\"{date_custom}_{title}{extension}\")\n",
    "                        else:\n",
    "                            file_name = os.path.join(destination_folder, f\"{date}_{title}{extension}\")\n",
    "                        with open(file_name, 'w+') as f:\n",
    "                            for l in abctune:\n",
    "                                if re.match(r'^\\s*$', l):\n",
    "                                    # line is empty (has only the following: \\t\\n\\r and whitespace)\n",
    "                                    pass\n",
    "                                else:\n",
    "                                    f.write(l + '\\n')\n",
    "\n",
    "                # Clear previous tune and initialise a new one:\n",
    "                date_custom = None\n",
    "                count = 0\n",
    "                title = None\n",
    "                abctune = []\n",
    "                abctune = [line]\n",
    "\n",
    "            # Add each line to the tune:\n",
    "            else:\n",
    "                abctune.append(line)\n",
    "\n",
    "                # Get the tune title:   \n",
    "                if line.startswith('T:'):\n",
    "                    count +=1\n",
    "                    line = line.split('/')[0]\n",
    "                    line = line[2:].strip()\n",
    "                    if count == 1:\n",
    "                        title = line\n",
    "                        abctune.append(source)\n",
    "                \n",
    "                # Check if there is a commented year:\n",
    "                if line.startswith('C:'):\n",
    "                    match = re.search(r'.*([1-2][0-9]{3})', line)\n",
    "                    if match:\n",
    "                        date_custom = match.group(1)\n",
    "\n",
    "        print(f\"Written {name} to file\")\n",
    "      "
   ]
  }
 ],
 "metadata": {
  "kernelspec": {
   "display_name": "base",
   "language": "python",
   "name": "python3"
  },
  "language_info": {
   "codemirror_mode": {
    "name": "ipython",
    "version": 3
   },
   "file_extension": ".py",
   "mimetype": "text/x-python",
   "name": "python",
   "nbconvert_exporter": "python",
   "pygments_lexer": "ipython3",
   "version": "3.9.19"
  }
 },
 "nbformat": 4,
 "nbformat_minor": 2
}
